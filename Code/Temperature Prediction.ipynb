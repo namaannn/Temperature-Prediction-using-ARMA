{
 "cells": [
  {
   "cell_type": "code",
   "execution_count": 1,
   "id": "dfe555a5",
   "metadata": {},
   "outputs": [],
   "source": [
    "import numpy as np\n",
    "import pandas as pd\n",
    "import matplotlib.pyplot as plt\n",
    "import seaborn as sns\n",
    "%matplotlib inline"
   ]
  },
  {
   "cell_type": "code",
   "execution_count": 2,
   "id": "db51073e",
   "metadata": {},
   "outputs": [
    {
     "data": {
      "text/html": [
       "<div>\n",
       "<style scoped>\n",
       "    .dataframe tbody tr th:only-of-type {\n",
       "        vertical-align: middle;\n",
       "    }\n",
       "\n",
       "    .dataframe tbody tr th {\n",
       "        vertical-align: top;\n",
       "    }\n",
       "\n",
       "    .dataframe thead th {\n",
       "        text-align: right;\n",
       "    }\n",
       "</style>\n",
       "<table border=\"1\" class=\"dataframe\">\n",
       "  <thead>\n",
       "    <tr style=\"text-align: right;\">\n",
       "      <th></th>\n",
       "      <th>dt</th>\n",
       "      <th>AverageTemperature</th>\n",
       "      <th>AverageTemperatureUncertainty</th>\n",
       "      <th>Country</th>\n",
       "    </tr>\n",
       "  </thead>\n",
       "  <tbody>\n",
       "    <tr>\n",
       "      <th>0</th>\n",
       "      <td>1743-11-01</td>\n",
       "      <td>4.384</td>\n",
       "      <td>2.294</td>\n",
       "      <td>Åland</td>\n",
       "    </tr>\n",
       "    <tr>\n",
       "      <th>1</th>\n",
       "      <td>1743-12-01</td>\n",
       "      <td>NaN</td>\n",
       "      <td>NaN</td>\n",
       "      <td>Åland</td>\n",
       "    </tr>\n",
       "    <tr>\n",
       "      <th>2</th>\n",
       "      <td>1744-01-01</td>\n",
       "      <td>NaN</td>\n",
       "      <td>NaN</td>\n",
       "      <td>Åland</td>\n",
       "    </tr>\n",
       "    <tr>\n",
       "      <th>3</th>\n",
       "      <td>1744-02-01</td>\n",
       "      <td>NaN</td>\n",
       "      <td>NaN</td>\n",
       "      <td>Åland</td>\n",
       "    </tr>\n",
       "    <tr>\n",
       "      <th>4</th>\n",
       "      <td>1744-03-01</td>\n",
       "      <td>NaN</td>\n",
       "      <td>NaN</td>\n",
       "      <td>Åland</td>\n",
       "    </tr>\n",
       "  </tbody>\n",
       "</table>\n",
       "</div>"
      ],
      "text/plain": [
       "           dt  AverageTemperature  AverageTemperatureUncertainty Country\n",
       "0  1743-11-01               4.384                          2.294   Åland\n",
       "1  1743-12-01                 NaN                            NaN   Åland\n",
       "2  1744-01-01                 NaN                            NaN   Åland\n",
       "3  1744-02-01                 NaN                            NaN   Åland\n",
       "4  1744-03-01                 NaN                            NaN   Åland"
      ]
     },
     "execution_count": 2,
     "metadata": {},
     "output_type": "execute_result"
    }
   ],
   "source": [
    "df=pd.read_csv(r\"C:\\Users\\naman\\Downloads\\archive (6)\\GlobalLandTemperaturesByCountry.csv\")\n",
    "df.head()"
   ]
  },
  {
   "cell_type": "code",
   "execution_count": 3,
   "id": "4f8e6444",
   "metadata": {},
   "outputs": [
    {
     "data": {
      "text/plain": [
       "dt                                   0\n",
       "AverageTemperature               32651\n",
       "AverageTemperatureUncertainty    31912\n",
       "Country                              0\n",
       "dtype: int64"
      ]
     },
     "execution_count": 3,
     "metadata": {},
     "output_type": "execute_result"
    }
   ],
   "source": [
    "df.isnull().sum()"
   ]
  },
  {
   "cell_type": "code",
   "execution_count": 4,
   "id": "b028d099",
   "metadata": {},
   "outputs": [
    {
     "data": {
      "text/plain": [
       "(577462, 4)"
      ]
     },
     "execution_count": 4,
     "metadata": {},
     "output_type": "execute_result"
    }
   ],
   "source": [
    "df.shape"
   ]
  },
  {
   "cell_type": "code",
   "execution_count": 5,
   "id": "0f0353bd",
   "metadata": {},
   "outputs": [
    {
     "name": "stdout",
     "output_type": "stream",
     "text": [
      "<class 'pandas.core.frame.DataFrame'>\n",
      "RangeIndex: 577462 entries, 0 to 577461\n",
      "Data columns (total 4 columns):\n",
      " #   Column                         Non-Null Count   Dtype  \n",
      "---  ------                         --------------   -----  \n",
      " 0   dt                             577462 non-null  object \n",
      " 1   AverageTemperature             544811 non-null  float64\n",
      " 2   AverageTemperatureUncertainty  545550 non-null  float64\n",
      " 3   Country                        577462 non-null  object \n",
      "dtypes: float64(2), object(2)\n",
      "memory usage: 17.6+ MB\n"
     ]
    }
   ],
   "source": [
    "df.info()"
   ]
  },
  {
   "cell_type": "code",
   "execution_count": 6,
   "id": "3df22b69",
   "metadata": {},
   "outputs": [],
   "source": [
    "df.drop(columns='AverageTemperatureUncertainty',inplace=True)"
   ]
  },
  {
   "cell_type": "code",
   "execution_count": 7,
   "id": "fb411393",
   "metadata": {},
   "outputs": [
    {
     "data": {
      "text/plain": [
       "(577462, 3)"
      ]
     },
     "execution_count": 7,
     "metadata": {},
     "output_type": "execute_result"
    }
   ],
   "source": [
    "df.shape"
   ]
  },
  {
   "cell_type": "code",
   "execution_count": 8,
   "id": "6954bdfb",
   "metadata": {},
   "outputs": [],
   "source": [
    "df['AverageTemperature'].fillna(method='pad',inplace=True)"
   ]
  },
  {
   "cell_type": "code",
   "execution_count": 9,
   "id": "e02fbb0f",
   "metadata": {},
   "outputs": [
    {
     "data": {
      "text/plain": [
       "dt                    0\n",
       "AverageTemperature    0\n",
       "Country               0\n",
       "dtype: int64"
      ]
     },
     "execution_count": 9,
     "metadata": {},
     "output_type": "execute_result"
    }
   ],
   "source": [
    "df.isnull().sum()"
   ]
  },
  {
   "cell_type": "code",
   "execution_count": 12,
   "id": "22ec63e7",
   "metadata": {},
   "outputs": [
    {
     "data": {
      "text/plain": [
       "0"
      ]
     },
     "execution_count": 12,
     "metadata": {},
     "output_type": "execute_result"
    }
   ],
   "source": [
    "df.duplicated().sum()"
   ]
  },
  {
   "cell_type": "code",
   "execution_count": 13,
   "id": "4d3ef348",
   "metadata": {},
   "outputs": [
    {
     "data": {
      "text/html": [
       "<div>\n",
       "<style scoped>\n",
       "    .dataframe tbody tr th:only-of-type {\n",
       "        vertical-align: middle;\n",
       "    }\n",
       "\n",
       "    .dataframe tbody tr th {\n",
       "        vertical-align: top;\n",
       "    }\n",
       "\n",
       "    .dataframe thead th {\n",
       "        text-align: right;\n",
       "    }\n",
       "</style>\n",
       "<table border=\"1\" class=\"dataframe\">\n",
       "  <thead>\n",
       "    <tr style=\"text-align: right;\">\n",
       "      <th></th>\n",
       "      <th>AverageTemperature</th>\n",
       "    </tr>\n",
       "  </thead>\n",
       "  <tbody>\n",
       "    <tr>\n",
       "      <th>count</th>\n",
       "      <td>577462.000000</td>\n",
       "    </tr>\n",
       "    <tr>\n",
       "      <th>mean</th>\n",
       "      <td>17.399923</td>\n",
       "    </tr>\n",
       "    <tr>\n",
       "      <th>std</th>\n",
       "      <td>10.832390</td>\n",
       "    </tr>\n",
       "    <tr>\n",
       "      <th>min</th>\n",
       "      <td>-37.658000</td>\n",
       "    </tr>\n",
       "    <tr>\n",
       "      <th>25%</th>\n",
       "      <td>10.354000</td>\n",
       "    </tr>\n",
       "    <tr>\n",
       "      <th>50%</th>\n",
       "      <td>21.271000</td>\n",
       "    </tr>\n",
       "    <tr>\n",
       "      <th>75%</th>\n",
       "      <td>25.777000</td>\n",
       "    </tr>\n",
       "    <tr>\n",
       "      <th>max</th>\n",
       "      <td>38.842000</td>\n",
       "    </tr>\n",
       "  </tbody>\n",
       "</table>\n",
       "</div>"
      ],
      "text/plain": [
       "       AverageTemperature\n",
       "count       577462.000000\n",
       "mean            17.399923\n",
       "std             10.832390\n",
       "min            -37.658000\n",
       "25%             10.354000\n",
       "50%             21.271000\n",
       "75%             25.777000\n",
       "max             38.842000"
      ]
     },
     "execution_count": 13,
     "metadata": {},
     "output_type": "execute_result"
    }
   ],
   "source": [
    "df.describe()"
   ]
  },
  {
   "cell_type": "code",
   "execution_count": 15,
   "id": "06888431",
   "metadata": {},
   "outputs": [],
   "source": [
    "df_country=df['Country'].unique()"
   ]
  },
  {
   "cell_type": "code",
   "execution_count": 16,
   "id": "c5610139",
   "metadata": {},
   "outputs": [
    {
     "data": {
      "text/plain": [
       "243"
      ]
     },
     "execution_count": 16,
     "metadata": {},
     "output_type": "execute_result"
    }
   ],
   "source": [
    "len(df_country)"
   ]
  },
  {
   "cell_type": "code",
   "execution_count": 18,
   "id": "5a58fe19",
   "metadata": {},
   "outputs": [
    {
     "data": {
      "text/plain": [
       "['Åland',\n",
       " 'Afghanistan',\n",
       " 'Africa',\n",
       " 'Albania',\n",
       " 'Algeria',\n",
       " 'American Samoa',\n",
       " 'Andorra',\n",
       " 'Angola',\n",
       " 'Anguilla',\n",
       " 'Antarctica',\n",
       " 'Antigua And Barbuda',\n",
       " 'Argentina',\n",
       " 'Armenia',\n",
       " 'Aruba',\n",
       " 'Asia',\n",
       " 'Australia',\n",
       " 'Austria',\n",
       " 'Azerbaijan',\n",
       " 'Bahamas',\n",
       " 'Bahrain',\n",
       " 'Baker Island',\n",
       " 'Bangladesh',\n",
       " 'Barbados',\n",
       " 'Belarus',\n",
       " 'Belgium',\n",
       " 'Belize',\n",
       " 'Benin',\n",
       " 'Bhutan',\n",
       " 'Bolivia',\n",
       " 'Bonaire, Saint Eustatius And Saba',\n",
       " 'Bosnia And Herzegovina',\n",
       " 'Botswana',\n",
       " 'Brazil',\n",
       " 'British Virgin Islands',\n",
       " 'Bulgaria',\n",
       " 'Burkina Faso',\n",
       " 'Burma',\n",
       " 'Burundi',\n",
       " \"Côte D'Ivoire\",\n",
       " 'Cambodia',\n",
       " 'Cameroon',\n",
       " 'Canada',\n",
       " 'Cape Verde',\n",
       " 'Cayman Islands',\n",
       " 'Central African Republic',\n",
       " 'Chad',\n",
       " 'Chile',\n",
       " 'China',\n",
       " 'Christmas Island',\n",
       " 'Colombia',\n",
       " 'Comoros',\n",
       " 'Congo (Democratic Republic Of The)',\n",
       " 'Congo',\n",
       " 'Costa Rica',\n",
       " 'Croatia',\n",
       " 'Cuba',\n",
       " 'Curaçao',\n",
       " 'Cyprus',\n",
       " 'Czech Republic',\n",
       " 'Denmark (Europe)',\n",
       " 'Denmark',\n",
       " 'Djibouti',\n",
       " 'Dominica',\n",
       " 'Dominican Republic',\n",
       " 'Ecuador',\n",
       " 'Egypt',\n",
       " 'El Salvador',\n",
       " 'Equatorial Guinea',\n",
       " 'Eritrea',\n",
       " 'Estonia',\n",
       " 'Ethiopia',\n",
       " 'Europe',\n",
       " 'Falkland Islands (Islas Malvinas)',\n",
       " 'Faroe Islands',\n",
       " 'Federated States Of Micronesia',\n",
       " 'Fiji',\n",
       " 'Finland',\n",
       " 'France (Europe)',\n",
       " 'France',\n",
       " 'French Guiana',\n",
       " 'French Polynesia',\n",
       " 'French Southern And Antarctic Lands',\n",
       " 'Gabon',\n",
       " 'Gambia',\n",
       " 'Gaza Strip',\n",
       " 'Georgia',\n",
       " 'Germany',\n",
       " 'Ghana',\n",
       " 'Greece',\n",
       " 'Greenland',\n",
       " 'Grenada',\n",
       " 'Guadeloupe',\n",
       " 'Guam',\n",
       " 'Guatemala',\n",
       " 'Guernsey',\n",
       " 'Guinea Bissau',\n",
       " 'Guinea',\n",
       " 'Guyana',\n",
       " 'Haiti',\n",
       " 'Heard Island And Mcdonald Islands',\n",
       " 'Honduras',\n",
       " 'Hong Kong',\n",
       " 'Hungary',\n",
       " 'Iceland',\n",
       " 'India',\n",
       " 'Indonesia',\n",
       " 'Iran',\n",
       " 'Iraq',\n",
       " 'Ireland',\n",
       " 'Isle Of Man',\n",
       " 'Israel',\n",
       " 'Italy',\n",
       " 'Jamaica',\n",
       " 'Japan',\n",
       " 'Jersey',\n",
       " 'Jordan',\n",
       " 'Kazakhstan',\n",
       " 'Kenya',\n",
       " 'Kingman Reef',\n",
       " 'Kiribati',\n",
       " 'Kuwait',\n",
       " 'Kyrgyzstan',\n",
       " 'Laos',\n",
       " 'Latvia',\n",
       " 'Lebanon',\n",
       " 'Lesotho',\n",
       " 'Liberia',\n",
       " 'Libya',\n",
       " 'Liechtenstein',\n",
       " 'Lithuania',\n",
       " 'Luxembourg',\n",
       " 'Macau',\n",
       " 'Macedonia',\n",
       " 'Madagascar',\n",
       " 'Malawi',\n",
       " 'Malaysia',\n",
       " 'Mali',\n",
       " 'Malta',\n",
       " 'Martinique',\n",
       " 'Mauritania',\n",
       " 'Mauritius',\n",
       " 'Mayotte',\n",
       " 'Mexico',\n",
       " 'Moldova',\n",
       " 'Monaco',\n",
       " 'Mongolia',\n",
       " 'Montenegro',\n",
       " 'Montserrat',\n",
       " 'Morocco',\n",
       " 'Mozambique',\n",
       " 'Namibia',\n",
       " 'Nepal',\n",
       " 'Netherlands (Europe)',\n",
       " 'Netherlands',\n",
       " 'New Caledonia',\n",
       " 'New Zealand',\n",
       " 'Nicaragua',\n",
       " 'Niger',\n",
       " 'Nigeria',\n",
       " 'Niue',\n",
       " 'North America',\n",
       " 'North Korea',\n",
       " 'Northern Mariana Islands',\n",
       " 'Norway',\n",
       " 'Oceania',\n",
       " 'Oman',\n",
       " 'Pakistan',\n",
       " 'Palau',\n",
       " 'Palestina',\n",
       " 'Palmyra Atoll',\n",
       " 'Panama',\n",
       " 'Papua New Guinea',\n",
       " 'Paraguay',\n",
       " 'Peru',\n",
       " 'Philippines',\n",
       " 'Poland',\n",
       " 'Portugal',\n",
       " 'Puerto Rico',\n",
       " 'Qatar',\n",
       " 'Reunion',\n",
       " 'Romania',\n",
       " 'Russia',\n",
       " 'Rwanda',\n",
       " 'Saint Barthélemy',\n",
       " 'Saint Kitts And Nevis',\n",
       " 'Saint Lucia',\n",
       " 'Saint Martin',\n",
       " 'Saint Pierre And Miquelon',\n",
       " 'Saint Vincent And The Grenadines',\n",
       " 'Samoa',\n",
       " 'San Marino',\n",
       " 'Sao Tome And Principe',\n",
       " 'Saudi Arabia',\n",
       " 'Senegal',\n",
       " 'Serbia',\n",
       " 'Seychelles',\n",
       " 'Sierra Leone',\n",
       " 'Singapore',\n",
       " 'Sint Maarten',\n",
       " 'Slovakia',\n",
       " 'Slovenia',\n",
       " 'Solomon Islands',\n",
       " 'Somalia',\n",
       " 'South Africa',\n",
       " 'South America',\n",
       " 'South Georgia And The South Sandwich Isla',\n",
       " 'South Korea',\n",
       " 'Spain',\n",
       " 'Sri Lanka',\n",
       " 'Sudan',\n",
       " 'Suriname',\n",
       " 'Svalbard And Jan Mayen',\n",
       " 'Swaziland',\n",
       " 'Sweden',\n",
       " 'Switzerland',\n",
       " 'Syria',\n",
       " 'Taiwan',\n",
       " 'Tajikistan',\n",
       " 'Tanzania',\n",
       " 'Thailand',\n",
       " 'Timor Leste',\n",
       " 'Togo',\n",
       " 'Tonga',\n",
       " 'Trinidad And Tobago',\n",
       " 'Tunisia',\n",
       " 'Turkey',\n",
       " 'Turkmenistan',\n",
       " 'Turks And Caicas Islands',\n",
       " 'Uganda',\n",
       " 'Ukraine',\n",
       " 'United Arab Emirates',\n",
       " 'United Kingdom (Europe)',\n",
       " 'United Kingdom',\n",
       " 'United States',\n",
       " 'Uruguay',\n",
       " 'Uzbekistan',\n",
       " 'Venezuela',\n",
       " 'Vietnam',\n",
       " 'Virgin Islands',\n",
       " 'Western Sahara',\n",
       " 'Yemen',\n",
       " 'Zambia',\n",
       " 'Zimbabwe']"
      ]
     },
     "execution_count": 18,
     "metadata": {},
     "output_type": "execute_result"
    }
   ],
   "source": [
    "list(df_country)"
   ]
  },
  {
   "cell_type": "code",
   "execution_count": 19,
   "id": "b5adc27a",
   "metadata": {},
   "outputs": [],
   "source": [
    "df_india=df[df['Country']==\"India\"]"
   ]
  },
  {
   "cell_type": "code",
   "execution_count": 20,
   "id": "dabc3a47",
   "metadata": {},
   "outputs": [
    {
     "data": {
      "text/html": [
       "<div>\n",
       "<style scoped>\n",
       "    .dataframe tbody tr th:only-of-type {\n",
       "        vertical-align: middle;\n",
       "    }\n",
       "\n",
       "    .dataframe tbody tr th {\n",
       "        vertical-align: top;\n",
       "    }\n",
       "\n",
       "    .dataframe thead th {\n",
       "        text-align: right;\n",
       "    }\n",
       "</style>\n",
       "<table border=\"1\" class=\"dataframe\">\n",
       "  <thead>\n",
       "    <tr style=\"text-align: right;\">\n",
       "      <th></th>\n",
       "      <th>dt</th>\n",
       "      <th>AverageTemperature</th>\n",
       "      <th>Country</th>\n",
       "    </tr>\n",
       "  </thead>\n",
       "  <tbody>\n",
       "    <tr>\n",
       "      <th>243695</th>\n",
       "      <td>1796-01-01</td>\n",
       "      <td>17.044</td>\n",
       "      <td>India</td>\n",
       "    </tr>\n",
       "    <tr>\n",
       "      <th>243696</th>\n",
       "      <td>1796-02-01</td>\n",
       "      <td>19.193</td>\n",
       "      <td>India</td>\n",
       "    </tr>\n",
       "    <tr>\n",
       "      <th>243697</th>\n",
       "      <td>1796-03-01</td>\n",
       "      <td>22.319</td>\n",
       "      <td>India</td>\n",
       "    </tr>\n",
       "    <tr>\n",
       "      <th>243698</th>\n",
       "      <td>1796-04-01</td>\n",
       "      <td>27.233</td>\n",
       "      <td>India</td>\n",
       "    </tr>\n",
       "    <tr>\n",
       "      <th>243699</th>\n",
       "      <td>1796-05-01</td>\n",
       "      <td>30.035</td>\n",
       "      <td>India</td>\n",
       "    </tr>\n",
       "    <tr>\n",
       "      <th>...</th>\n",
       "      <td>...</td>\n",
       "      <td>...</td>\n",
       "      <td>...</td>\n",
       "    </tr>\n",
       "    <tr>\n",
       "      <th>246303</th>\n",
       "      <td>2013-05-01</td>\n",
       "      <td>31.014</td>\n",
       "      <td>India</td>\n",
       "    </tr>\n",
       "    <tr>\n",
       "      <th>246304</th>\n",
       "      <td>2013-06-01</td>\n",
       "      <td>28.766</td>\n",
       "      <td>India</td>\n",
       "    </tr>\n",
       "    <tr>\n",
       "      <th>246305</th>\n",
       "      <td>2013-07-01</td>\n",
       "      <td>27.012</td>\n",
       "      <td>India</td>\n",
       "    </tr>\n",
       "    <tr>\n",
       "      <th>246306</th>\n",
       "      <td>2013-08-01</td>\n",
       "      <td>26.555</td>\n",
       "      <td>India</td>\n",
       "    </tr>\n",
       "    <tr>\n",
       "      <th>246307</th>\n",
       "      <td>2013-09-01</td>\n",
       "      <td>26.555</td>\n",
       "      <td>India</td>\n",
       "    </tr>\n",
       "  </tbody>\n",
       "</table>\n",
       "<p>2613 rows × 3 columns</p>\n",
       "</div>"
      ],
      "text/plain": [
       "                dt  AverageTemperature Country\n",
       "243695  1796-01-01              17.044   India\n",
       "243696  1796-02-01              19.193   India\n",
       "243697  1796-03-01              22.319   India\n",
       "243698  1796-04-01              27.233   India\n",
       "243699  1796-05-01              30.035   India\n",
       "...            ...                 ...     ...\n",
       "246303  2013-05-01              31.014   India\n",
       "246304  2013-06-01              28.766   India\n",
       "246305  2013-07-01              27.012   India\n",
       "246306  2013-08-01              26.555   India\n",
       "246307  2013-09-01              26.555   India\n",
       "\n",
       "[2613 rows x 3 columns]"
      ]
     },
     "execution_count": 20,
     "metadata": {},
     "output_type": "execute_result"
    }
   ],
   "source": [
    "df_india"
   ]
  },
  {
   "cell_type": "code",
   "execution_count": 23,
   "id": "ce5cd763",
   "metadata": {},
   "outputs": [],
   "source": [
    "df=df_india.drop('Country',axis=1)"
   ]
  },
  {
   "cell_type": "code",
   "execution_count": 24,
   "id": "dd61dae3",
   "metadata": {},
   "outputs": [
    {
     "data": {
      "text/html": [
       "<div>\n",
       "<style scoped>\n",
       "    .dataframe tbody tr th:only-of-type {\n",
       "        vertical-align: middle;\n",
       "    }\n",
       "\n",
       "    .dataframe tbody tr th {\n",
       "        vertical-align: top;\n",
       "    }\n",
       "\n",
       "    .dataframe thead th {\n",
       "        text-align: right;\n",
       "    }\n",
       "</style>\n",
       "<table border=\"1\" class=\"dataframe\">\n",
       "  <thead>\n",
       "    <tr style=\"text-align: right;\">\n",
       "      <th></th>\n",
       "      <th>dt</th>\n",
       "      <th>AverageTemperature</th>\n",
       "    </tr>\n",
       "  </thead>\n",
       "  <tbody>\n",
       "    <tr>\n",
       "      <th>243695</th>\n",
       "      <td>1796-01-01</td>\n",
       "      <td>17.044</td>\n",
       "    </tr>\n",
       "    <tr>\n",
       "      <th>243696</th>\n",
       "      <td>1796-02-01</td>\n",
       "      <td>19.193</td>\n",
       "    </tr>\n",
       "    <tr>\n",
       "      <th>243697</th>\n",
       "      <td>1796-03-01</td>\n",
       "      <td>22.319</td>\n",
       "    </tr>\n",
       "    <tr>\n",
       "      <th>243698</th>\n",
       "      <td>1796-04-01</td>\n",
       "      <td>27.233</td>\n",
       "    </tr>\n",
       "    <tr>\n",
       "      <th>243699</th>\n",
       "      <td>1796-05-01</td>\n",
       "      <td>30.035</td>\n",
       "    </tr>\n",
       "    <tr>\n",
       "      <th>...</th>\n",
       "      <td>...</td>\n",
       "      <td>...</td>\n",
       "    </tr>\n",
       "    <tr>\n",
       "      <th>246303</th>\n",
       "      <td>2013-05-01</td>\n",
       "      <td>31.014</td>\n",
       "    </tr>\n",
       "    <tr>\n",
       "      <th>246304</th>\n",
       "      <td>2013-06-01</td>\n",
       "      <td>28.766</td>\n",
       "    </tr>\n",
       "    <tr>\n",
       "      <th>246305</th>\n",
       "      <td>2013-07-01</td>\n",
       "      <td>27.012</td>\n",
       "    </tr>\n",
       "    <tr>\n",
       "      <th>246306</th>\n",
       "      <td>2013-08-01</td>\n",
       "      <td>26.555</td>\n",
       "    </tr>\n",
       "    <tr>\n",
       "      <th>246307</th>\n",
       "      <td>2013-09-01</td>\n",
       "      <td>26.555</td>\n",
       "    </tr>\n",
       "  </tbody>\n",
       "</table>\n",
       "<p>2613 rows × 2 columns</p>\n",
       "</div>"
      ],
      "text/plain": [
       "                dt  AverageTemperature\n",
       "243695  1796-01-01              17.044\n",
       "243696  1796-02-01              19.193\n",
       "243697  1796-03-01              22.319\n",
       "243698  1796-04-01              27.233\n",
       "243699  1796-05-01              30.035\n",
       "...            ...                 ...\n",
       "246303  2013-05-01              31.014\n",
       "246304  2013-06-01              28.766\n",
       "246305  2013-07-01              27.012\n",
       "246306  2013-08-01              26.555\n",
       "246307  2013-09-01              26.555\n",
       "\n",
       "[2613 rows x 2 columns]"
      ]
     },
     "execution_count": 24,
     "metadata": {},
     "output_type": "execute_result"
    }
   ],
   "source": [
    "df"
   ]
  },
  {
   "cell_type": "code",
   "execution_count": 25,
   "id": "69616955",
   "metadata": {},
   "outputs": [],
   "source": [
    "df.index=pd.to_datetime(df.dt)"
   ]
  },
  {
   "cell_type": "code",
   "execution_count": 26,
   "id": "4165a63f",
   "metadata": {},
   "outputs": [
    {
     "data": {
      "text/plain": [
       "DatetimeIndex(['1796-01-01', '1796-02-01', '1796-03-01', '1796-04-01',\n",
       "               '1796-05-01', '1796-06-01', '1796-07-01', '1796-08-01',\n",
       "               '1796-09-01', '1796-10-01',\n",
       "               ...\n",
       "               '2012-12-01', '2013-01-01', '2013-02-01', '2013-03-01',\n",
       "               '2013-04-01', '2013-05-01', '2013-06-01', '2013-07-01',\n",
       "               '2013-08-01', '2013-09-01'],\n",
       "              dtype='datetime64[ns]', name='dt', length=2613, freq=None)"
      ]
     },
     "execution_count": 26,
     "metadata": {},
     "output_type": "execute_result"
    }
   ],
   "source": [
    "df.index"
   ]
  },
  {
   "cell_type": "code",
   "execution_count": 27,
   "id": "2b63183e",
   "metadata": {},
   "outputs": [],
   "source": [
    "df=df.drop('dt',axis=1)"
   ]
  },
  {
   "cell_type": "code",
   "execution_count": 28,
   "id": "173fd330",
   "metadata": {},
   "outputs": [
    {
     "data": {
      "text/html": [
       "<div>\n",
       "<style scoped>\n",
       "    .dataframe tbody tr th:only-of-type {\n",
       "        vertical-align: middle;\n",
       "    }\n",
       "\n",
       "    .dataframe tbody tr th {\n",
       "        vertical-align: top;\n",
       "    }\n",
       "\n",
       "    .dataframe thead th {\n",
       "        text-align: right;\n",
       "    }\n",
       "</style>\n",
       "<table border=\"1\" class=\"dataframe\">\n",
       "  <thead>\n",
       "    <tr style=\"text-align: right;\">\n",
       "      <th></th>\n",
       "      <th>AverageTemperature</th>\n",
       "    </tr>\n",
       "    <tr>\n",
       "      <th>dt</th>\n",
       "      <th></th>\n",
       "    </tr>\n",
       "  </thead>\n",
       "  <tbody>\n",
       "    <tr>\n",
       "      <th>1796-01-01</th>\n",
       "      <td>17.044</td>\n",
       "    </tr>\n",
       "    <tr>\n",
       "      <th>1796-02-01</th>\n",
       "      <td>19.193</td>\n",
       "    </tr>\n",
       "    <tr>\n",
       "      <th>1796-03-01</th>\n",
       "      <td>22.319</td>\n",
       "    </tr>\n",
       "    <tr>\n",
       "      <th>1796-04-01</th>\n",
       "      <td>27.233</td>\n",
       "    </tr>\n",
       "    <tr>\n",
       "      <th>1796-05-01</th>\n",
       "      <td>30.035</td>\n",
       "    </tr>\n",
       "    <tr>\n",
       "      <th>...</th>\n",
       "      <td>...</td>\n",
       "    </tr>\n",
       "    <tr>\n",
       "      <th>2013-05-01</th>\n",
       "      <td>31.014</td>\n",
       "    </tr>\n",
       "    <tr>\n",
       "      <th>2013-06-01</th>\n",
       "      <td>28.766</td>\n",
       "    </tr>\n",
       "    <tr>\n",
       "      <th>2013-07-01</th>\n",
       "      <td>27.012</td>\n",
       "    </tr>\n",
       "    <tr>\n",
       "      <th>2013-08-01</th>\n",
       "      <td>26.555</td>\n",
       "    </tr>\n",
       "    <tr>\n",
       "      <th>2013-09-01</th>\n",
       "      <td>26.555</td>\n",
       "    </tr>\n",
       "  </tbody>\n",
       "</table>\n",
       "<p>2613 rows × 1 columns</p>\n",
       "</div>"
      ],
      "text/plain": [
       "            AverageTemperature\n",
       "dt                            \n",
       "1796-01-01              17.044\n",
       "1796-02-01              19.193\n",
       "1796-03-01              22.319\n",
       "1796-04-01              27.233\n",
       "1796-05-01              30.035\n",
       "...                        ...\n",
       "2013-05-01              31.014\n",
       "2013-06-01              28.766\n",
       "2013-07-01              27.012\n",
       "2013-08-01              26.555\n",
       "2013-09-01              26.555\n",
       "\n",
       "[2613 rows x 1 columns]"
      ]
     },
     "execution_count": 28,
     "metadata": {},
     "output_type": "execute_result"
    }
   ],
   "source": [
    "df"
   ]
  },
  {
   "cell_type": "code",
   "execution_count": 29,
   "id": "513382b1",
   "metadata": {},
   "outputs": [],
   "source": [
    "df=df.loc['1970-01-01':]"
   ]
  },
  {
   "cell_type": "code",
   "execution_count": 30,
   "id": "16c191c9",
   "metadata": {},
   "outputs": [
    {
     "data": {
      "text/plain": [
       "(525, 1)"
      ]
     },
     "execution_count": 30,
     "metadata": {},
     "output_type": "execute_result"
    }
   ],
   "source": [
    "df.shape"
   ]
  },
  {
   "cell_type": "code",
   "execution_count": 31,
   "id": "15037600",
   "metadata": {},
   "outputs": [
    {
     "data": {
      "text/html": [
       "<div>\n",
       "<style scoped>\n",
       "    .dataframe tbody tr th:only-of-type {\n",
       "        vertical-align: middle;\n",
       "    }\n",
       "\n",
       "    .dataframe tbody tr th {\n",
       "        vertical-align: top;\n",
       "    }\n",
       "\n",
       "    .dataframe thead th {\n",
       "        text-align: right;\n",
       "    }\n",
       "</style>\n",
       "<table border=\"1\" class=\"dataframe\">\n",
       "  <thead>\n",
       "    <tr style=\"text-align: right;\">\n",
       "      <th></th>\n",
       "      <th>AverageTemperature</th>\n",
       "    </tr>\n",
       "    <tr>\n",
       "      <th>dt</th>\n",
       "      <th></th>\n",
       "    </tr>\n",
       "  </thead>\n",
       "  <tbody>\n",
       "    <tr>\n",
       "      <th>1970-01-01</th>\n",
       "      <td>NaN</td>\n",
       "    </tr>\n",
       "    <tr>\n",
       "      <th>1970-02-01</th>\n",
       "      <td>NaN</td>\n",
       "    </tr>\n",
       "    <tr>\n",
       "      <th>1970-03-01</th>\n",
       "      <td>NaN</td>\n",
       "    </tr>\n",
       "    <tr>\n",
       "      <th>1970-04-01</th>\n",
       "      <td>NaN</td>\n",
       "    </tr>\n",
       "    <tr>\n",
       "      <th>1970-05-01</th>\n",
       "      <td>NaN</td>\n",
       "    </tr>\n",
       "    <tr>\n",
       "      <th>...</th>\n",
       "      <td>...</td>\n",
       "    </tr>\n",
       "    <tr>\n",
       "      <th>2013-05-01</th>\n",
       "      <td>NaN</td>\n",
       "    </tr>\n",
       "    <tr>\n",
       "      <th>2013-06-01</th>\n",
       "      <td>NaN</td>\n",
       "    </tr>\n",
       "    <tr>\n",
       "      <th>2013-07-01</th>\n",
       "      <td>NaN</td>\n",
       "    </tr>\n",
       "    <tr>\n",
       "      <th>2013-08-01</th>\n",
       "      <td>NaN</td>\n",
       "    </tr>\n",
       "    <tr>\n",
       "      <th>2013-09-01</th>\n",
       "      <td>NaN</td>\n",
       "    </tr>\n",
       "  </tbody>\n",
       "</table>\n",
       "<p>525 rows × 1 columns</p>\n",
       "</div>"
      ],
      "text/plain": [
       "            AverageTemperature\n",
       "dt                            \n",
       "1970-01-01                 NaN\n",
       "1970-02-01                 NaN\n",
       "1970-03-01                 NaN\n",
       "1970-04-01                 NaN\n",
       "1970-05-01                 NaN\n",
       "...                        ...\n",
       "2013-05-01                 NaN\n",
       "2013-06-01                 NaN\n",
       "2013-07-01                 NaN\n",
       "2013-08-01                 NaN\n",
       "2013-09-01                 NaN\n",
       "\n",
       "[525 rows x 1 columns]"
      ]
     },
     "execution_count": 31,
     "metadata": {},
     "output_type": "execute_result"
    }
   ],
   "source": [
    "df[df.isnull()]"
   ]
  },
  {
   "cell_type": "code",
   "execution_count": 32,
   "id": "4ae0613c",
   "metadata": {},
   "outputs": [],
   "source": [
    "df=df.sort_index()"
   ]
  },
  {
   "cell_type": "code",
   "execution_count": 33,
   "id": "8a0ae6ed",
   "metadata": {},
   "outputs": [
    {
     "data": {
      "text/html": [
       "<div>\n",
       "<style scoped>\n",
       "    .dataframe tbody tr th:only-of-type {\n",
       "        vertical-align: middle;\n",
       "    }\n",
       "\n",
       "    .dataframe tbody tr th {\n",
       "        vertical-align: top;\n",
       "    }\n",
       "\n",
       "    .dataframe thead th {\n",
       "        text-align: right;\n",
       "    }\n",
       "</style>\n",
       "<table border=\"1\" class=\"dataframe\">\n",
       "  <thead>\n",
       "    <tr style=\"text-align: right;\">\n",
       "      <th></th>\n",
       "      <th>AverageTemperature</th>\n",
       "    </tr>\n",
       "    <tr>\n",
       "      <th>dt</th>\n",
       "      <th></th>\n",
       "    </tr>\n",
       "  </thead>\n",
       "  <tbody>\n",
       "    <tr>\n",
       "      <th>1970-01-01</th>\n",
       "      <td>17.400</td>\n",
       "    </tr>\n",
       "    <tr>\n",
       "      <th>1970-02-01</th>\n",
       "      <td>19.679</td>\n",
       "    </tr>\n",
       "    <tr>\n",
       "      <th>1970-03-01</th>\n",
       "      <td>23.807</td>\n",
       "    </tr>\n",
       "    <tr>\n",
       "      <th>1970-04-01</th>\n",
       "      <td>28.212</td>\n",
       "    </tr>\n",
       "    <tr>\n",
       "      <th>1970-05-01</th>\n",
       "      <td>30.420</td>\n",
       "    </tr>\n",
       "  </tbody>\n",
       "</table>\n",
       "</div>"
      ],
      "text/plain": [
       "            AverageTemperature\n",
       "dt                            \n",
       "1970-01-01              17.400\n",
       "1970-02-01              19.679\n",
       "1970-03-01              23.807\n",
       "1970-04-01              28.212\n",
       "1970-05-01              30.420"
      ]
     },
     "execution_count": 33,
     "metadata": {},
     "output_type": "execute_result"
    }
   ],
   "source": [
    "df.AverageTemperature.fillna(method='pad', inplace=True)\n",
    "df.head()"
   ]
  },
  {
   "cell_type": "code",
   "execution_count": 35,
   "id": "b68c77e3",
   "metadata": {},
   "outputs": [
    {
     "data": {
      "text/html": [
       "<div>\n",
       "<style scoped>\n",
       "    .dataframe tbody tr th:only-of-type {\n",
       "        vertical-align: middle;\n",
       "    }\n",
       "\n",
       "    .dataframe tbody tr th {\n",
       "        vertical-align: top;\n",
       "    }\n",
       "\n",
       "    .dataframe thead th {\n",
       "        text-align: right;\n",
       "    }\n",
       "</style>\n",
       "<table border=\"1\" class=\"dataframe\">\n",
       "  <thead>\n",
       "    <tr style=\"text-align: right;\">\n",
       "      <th></th>\n",
       "      <th>AverageTemperature</th>\n",
       "    </tr>\n",
       "    <tr>\n",
       "      <th>dt</th>\n",
       "      <th></th>\n",
       "    </tr>\n",
       "  </thead>\n",
       "  <tbody>\n",
       "  </tbody>\n",
       "</table>\n",
       "</div>"
      ],
      "text/plain": [
       "Empty DataFrame\n",
       "Columns: [AverageTemperature]\n",
       "Index: []"
      ]
     },
     "execution_count": 35,
     "metadata": {},
     "output_type": "execute_result"
    }
   ],
   "source": [
    "df[df.AverageTemperature.isnull()]"
   ]
  },
  {
   "cell_type": "code",
   "execution_count": 36,
   "id": "353cd9cf",
   "metadata": {},
   "outputs": [
    {
     "data": {
      "text/plain": [
       "array(['1970-01-01T00:00:00.000000000', '1970-02-01T00:00:00.000000000',\n",
       "       '1970-03-01T00:00:00.000000000', '1970-04-01T00:00:00.000000000',\n",
       "       '1970-05-01T00:00:00.000000000', '1970-06-01T00:00:00.000000000',\n",
       "       '1970-07-01T00:00:00.000000000', '1970-08-01T00:00:00.000000000',\n",
       "       '1970-09-01T00:00:00.000000000', '1970-10-01T00:00:00.000000000',\n",
       "       '1970-11-01T00:00:00.000000000', '1970-12-01T00:00:00.000000000',\n",
       "       '1971-01-01T00:00:00.000000000', '1971-02-01T00:00:00.000000000',\n",
       "       '1971-03-01T00:00:00.000000000', '1971-04-01T00:00:00.000000000',\n",
       "       '1971-05-01T00:00:00.000000000', '1971-06-01T00:00:00.000000000',\n",
       "       '1971-07-01T00:00:00.000000000', '1971-08-01T00:00:00.000000000',\n",
       "       '1971-09-01T00:00:00.000000000', '1971-10-01T00:00:00.000000000',\n",
       "       '1971-11-01T00:00:00.000000000', '1971-12-01T00:00:00.000000000',\n",
       "       '1972-01-01T00:00:00.000000000', '1972-02-01T00:00:00.000000000',\n",
       "       '1972-03-01T00:00:00.000000000', '1972-04-01T00:00:00.000000000',\n",
       "       '1972-05-01T00:00:00.000000000', '1972-06-01T00:00:00.000000000',\n",
       "       '1972-07-01T00:00:00.000000000', '1972-08-01T00:00:00.000000000',\n",
       "       '1972-09-01T00:00:00.000000000', '1972-10-01T00:00:00.000000000',\n",
       "       '1972-11-01T00:00:00.000000000', '1972-12-01T00:00:00.000000000',\n",
       "       '1973-01-01T00:00:00.000000000', '1973-02-01T00:00:00.000000000',\n",
       "       '1973-03-01T00:00:00.000000000', '1973-04-01T00:00:00.000000000',\n",
       "       '1973-05-01T00:00:00.000000000', '1973-06-01T00:00:00.000000000',\n",
       "       '1973-07-01T00:00:00.000000000', '1973-08-01T00:00:00.000000000',\n",
       "       '1973-09-01T00:00:00.000000000', '1973-10-01T00:00:00.000000000',\n",
       "       '1973-11-01T00:00:00.000000000', '1973-12-01T00:00:00.000000000',\n",
       "       '1974-01-01T00:00:00.000000000', '1974-02-01T00:00:00.000000000',\n",
       "       '1974-03-01T00:00:00.000000000', '1974-04-01T00:00:00.000000000',\n",
       "       '1974-05-01T00:00:00.000000000', '1974-06-01T00:00:00.000000000',\n",
       "       '1974-07-01T00:00:00.000000000', '1974-08-01T00:00:00.000000000',\n",
       "       '1974-09-01T00:00:00.000000000', '1974-10-01T00:00:00.000000000',\n",
       "       '1974-11-01T00:00:00.000000000', '1974-12-01T00:00:00.000000000',\n",
       "       '1975-01-01T00:00:00.000000000', '1975-02-01T00:00:00.000000000',\n",
       "       '1975-03-01T00:00:00.000000000', '1975-04-01T00:00:00.000000000',\n",
       "       '1975-05-01T00:00:00.000000000', '1975-06-01T00:00:00.000000000',\n",
       "       '1975-07-01T00:00:00.000000000', '1975-08-01T00:00:00.000000000',\n",
       "       '1975-09-01T00:00:00.000000000', '1975-10-01T00:00:00.000000000',\n",
       "       '1975-11-01T00:00:00.000000000', '1975-12-01T00:00:00.000000000',\n",
       "       '1976-01-01T00:00:00.000000000', '1976-02-01T00:00:00.000000000',\n",
       "       '1976-03-01T00:00:00.000000000', '1976-04-01T00:00:00.000000000',\n",
       "       '1976-05-01T00:00:00.000000000', '1976-06-01T00:00:00.000000000',\n",
       "       '1976-07-01T00:00:00.000000000', '1976-08-01T00:00:00.000000000',\n",
       "       '1976-09-01T00:00:00.000000000', '1976-10-01T00:00:00.000000000',\n",
       "       '1976-11-01T00:00:00.000000000', '1976-12-01T00:00:00.000000000',\n",
       "       '1977-01-01T00:00:00.000000000', '1977-02-01T00:00:00.000000000',\n",
       "       '1977-03-01T00:00:00.000000000', '1977-04-01T00:00:00.000000000',\n",
       "       '1977-05-01T00:00:00.000000000', '1977-06-01T00:00:00.000000000',\n",
       "       '1977-07-01T00:00:00.000000000', '1977-08-01T00:00:00.000000000',\n",
       "       '1977-09-01T00:00:00.000000000', '1977-10-01T00:00:00.000000000',\n",
       "       '1977-11-01T00:00:00.000000000', '1977-12-01T00:00:00.000000000',\n",
       "       '1978-01-01T00:00:00.000000000', '1978-02-01T00:00:00.000000000',\n",
       "       '1978-03-01T00:00:00.000000000', '1978-04-01T00:00:00.000000000',\n",
       "       '1978-05-01T00:00:00.000000000', '1978-06-01T00:00:00.000000000',\n",
       "       '1978-07-01T00:00:00.000000000', '1978-08-01T00:00:00.000000000',\n",
       "       '1978-09-01T00:00:00.000000000', '1978-10-01T00:00:00.000000000',\n",
       "       '1978-11-01T00:00:00.000000000', '1978-12-01T00:00:00.000000000',\n",
       "       '1979-01-01T00:00:00.000000000', '1979-02-01T00:00:00.000000000',\n",
       "       '1979-03-01T00:00:00.000000000', '1979-04-01T00:00:00.000000000',\n",
       "       '1979-05-01T00:00:00.000000000', '1979-06-01T00:00:00.000000000',\n",
       "       '1979-07-01T00:00:00.000000000', '1979-08-01T00:00:00.000000000',\n",
       "       '1979-09-01T00:00:00.000000000', '1979-10-01T00:00:00.000000000',\n",
       "       '1979-11-01T00:00:00.000000000', '1979-12-01T00:00:00.000000000',\n",
       "       '1980-01-01T00:00:00.000000000', '1980-02-01T00:00:00.000000000',\n",
       "       '1980-03-01T00:00:00.000000000', '1980-04-01T00:00:00.000000000',\n",
       "       '1980-05-01T00:00:00.000000000', '1980-06-01T00:00:00.000000000',\n",
       "       '1980-07-01T00:00:00.000000000', '1980-08-01T00:00:00.000000000',\n",
       "       '1980-09-01T00:00:00.000000000', '1980-10-01T00:00:00.000000000',\n",
       "       '1980-11-01T00:00:00.000000000', '1980-12-01T00:00:00.000000000',\n",
       "       '1981-01-01T00:00:00.000000000', '1981-02-01T00:00:00.000000000',\n",
       "       '1981-03-01T00:00:00.000000000', '1981-04-01T00:00:00.000000000',\n",
       "       '1981-05-01T00:00:00.000000000', '1981-06-01T00:00:00.000000000',\n",
       "       '1981-07-01T00:00:00.000000000', '1981-08-01T00:00:00.000000000',\n",
       "       '1981-09-01T00:00:00.000000000', '1981-10-01T00:00:00.000000000',\n",
       "       '1981-11-01T00:00:00.000000000', '1981-12-01T00:00:00.000000000',\n",
       "       '1982-01-01T00:00:00.000000000', '1982-02-01T00:00:00.000000000',\n",
       "       '1982-03-01T00:00:00.000000000', '1982-04-01T00:00:00.000000000',\n",
       "       '1982-05-01T00:00:00.000000000', '1982-06-01T00:00:00.000000000',\n",
       "       '1982-07-01T00:00:00.000000000', '1982-08-01T00:00:00.000000000',\n",
       "       '1982-09-01T00:00:00.000000000', '1982-10-01T00:00:00.000000000',\n",
       "       '1982-11-01T00:00:00.000000000', '1982-12-01T00:00:00.000000000',\n",
       "       '1983-01-01T00:00:00.000000000', '1983-02-01T00:00:00.000000000',\n",
       "       '1983-03-01T00:00:00.000000000', '1983-04-01T00:00:00.000000000',\n",
       "       '1983-05-01T00:00:00.000000000', '1983-06-01T00:00:00.000000000',\n",
       "       '1983-07-01T00:00:00.000000000', '1983-08-01T00:00:00.000000000',\n",
       "       '1983-09-01T00:00:00.000000000', '1983-10-01T00:00:00.000000000',\n",
       "       '1983-11-01T00:00:00.000000000', '1983-12-01T00:00:00.000000000',\n",
       "       '1984-01-01T00:00:00.000000000', '1984-02-01T00:00:00.000000000',\n",
       "       '1984-03-01T00:00:00.000000000', '1984-04-01T00:00:00.000000000',\n",
       "       '1984-05-01T00:00:00.000000000', '1984-06-01T00:00:00.000000000',\n",
       "       '1984-07-01T00:00:00.000000000', '1984-08-01T00:00:00.000000000',\n",
       "       '1984-09-01T00:00:00.000000000', '1984-10-01T00:00:00.000000000',\n",
       "       '1984-11-01T00:00:00.000000000', '1984-12-01T00:00:00.000000000',\n",
       "       '1985-01-01T00:00:00.000000000', '1985-02-01T00:00:00.000000000',\n",
       "       '1985-03-01T00:00:00.000000000', '1985-04-01T00:00:00.000000000',\n",
       "       '1985-05-01T00:00:00.000000000', '1985-06-01T00:00:00.000000000',\n",
       "       '1985-07-01T00:00:00.000000000', '1985-08-01T00:00:00.000000000',\n",
       "       '1985-09-01T00:00:00.000000000', '1985-10-01T00:00:00.000000000',\n",
       "       '1985-11-01T00:00:00.000000000', '1985-12-01T00:00:00.000000000',\n",
       "       '1986-01-01T00:00:00.000000000', '1986-02-01T00:00:00.000000000',\n",
       "       '1986-03-01T00:00:00.000000000', '1986-04-01T00:00:00.000000000',\n",
       "       '1986-05-01T00:00:00.000000000', '1986-06-01T00:00:00.000000000',\n",
       "       '1986-07-01T00:00:00.000000000', '1986-08-01T00:00:00.000000000',\n",
       "       '1986-09-01T00:00:00.000000000', '1986-10-01T00:00:00.000000000',\n",
       "       '1986-11-01T00:00:00.000000000', '1986-12-01T00:00:00.000000000',\n",
       "       '1987-01-01T00:00:00.000000000', '1987-02-01T00:00:00.000000000',\n",
       "       '1987-03-01T00:00:00.000000000', '1987-04-01T00:00:00.000000000',\n",
       "       '1987-05-01T00:00:00.000000000', '1987-06-01T00:00:00.000000000',\n",
       "       '1987-07-01T00:00:00.000000000', '1987-08-01T00:00:00.000000000',\n",
       "       '1987-09-01T00:00:00.000000000', '1987-10-01T00:00:00.000000000',\n",
       "       '1987-11-01T00:00:00.000000000', '1987-12-01T00:00:00.000000000',\n",
       "       '1988-01-01T00:00:00.000000000', '1988-02-01T00:00:00.000000000',\n",
       "       '1988-03-01T00:00:00.000000000', '1988-04-01T00:00:00.000000000',\n",
       "       '1988-05-01T00:00:00.000000000', '1988-06-01T00:00:00.000000000',\n",
       "       '1988-07-01T00:00:00.000000000', '1988-08-01T00:00:00.000000000',\n",
       "       '1988-09-01T00:00:00.000000000', '1988-10-01T00:00:00.000000000',\n",
       "       '1988-11-01T00:00:00.000000000', '1988-12-01T00:00:00.000000000',\n",
       "       '1989-01-01T00:00:00.000000000', '1989-02-01T00:00:00.000000000',\n",
       "       '1989-03-01T00:00:00.000000000', '1989-04-01T00:00:00.000000000',\n",
       "       '1989-05-01T00:00:00.000000000', '1989-06-01T00:00:00.000000000',\n",
       "       '1989-07-01T00:00:00.000000000', '1989-08-01T00:00:00.000000000',\n",
       "       '1989-09-01T00:00:00.000000000', '1989-10-01T00:00:00.000000000',\n",
       "       '1989-11-01T00:00:00.000000000', '1989-12-01T00:00:00.000000000',\n",
       "       '1990-01-01T00:00:00.000000000', '1990-02-01T00:00:00.000000000',\n",
       "       '1990-03-01T00:00:00.000000000', '1990-04-01T00:00:00.000000000',\n",
       "       '1990-05-01T00:00:00.000000000', '1990-06-01T00:00:00.000000000',\n",
       "       '1990-07-01T00:00:00.000000000', '1990-08-01T00:00:00.000000000',\n",
       "       '1990-09-01T00:00:00.000000000', '1990-10-01T00:00:00.000000000',\n",
       "       '1990-11-01T00:00:00.000000000', '1990-12-01T00:00:00.000000000',\n",
       "       '1991-01-01T00:00:00.000000000', '1991-02-01T00:00:00.000000000',\n",
       "       '1991-03-01T00:00:00.000000000', '1991-04-01T00:00:00.000000000',\n",
       "       '1991-05-01T00:00:00.000000000', '1991-06-01T00:00:00.000000000',\n",
       "       '1991-07-01T00:00:00.000000000', '1991-08-01T00:00:00.000000000',\n",
       "       '1991-09-01T00:00:00.000000000', '1991-10-01T00:00:00.000000000',\n",
       "       '1991-11-01T00:00:00.000000000', '1991-12-01T00:00:00.000000000',\n",
       "       '1992-01-01T00:00:00.000000000', '1992-02-01T00:00:00.000000000',\n",
       "       '1992-03-01T00:00:00.000000000', '1992-04-01T00:00:00.000000000',\n",
       "       '1992-05-01T00:00:00.000000000', '1992-06-01T00:00:00.000000000',\n",
       "       '1992-07-01T00:00:00.000000000', '1992-08-01T00:00:00.000000000',\n",
       "       '1992-09-01T00:00:00.000000000', '1992-10-01T00:00:00.000000000',\n",
       "       '1992-11-01T00:00:00.000000000', '1992-12-01T00:00:00.000000000',\n",
       "       '1993-01-01T00:00:00.000000000', '1993-02-01T00:00:00.000000000',\n",
       "       '1993-03-01T00:00:00.000000000', '1993-04-01T00:00:00.000000000',\n",
       "       '1993-05-01T00:00:00.000000000', '1993-06-01T00:00:00.000000000',\n",
       "       '1993-07-01T00:00:00.000000000', '1993-08-01T00:00:00.000000000',\n",
       "       '1993-09-01T00:00:00.000000000', '1993-10-01T00:00:00.000000000',\n",
       "       '1993-11-01T00:00:00.000000000', '1993-12-01T00:00:00.000000000',\n",
       "       '1994-01-01T00:00:00.000000000', '1994-02-01T00:00:00.000000000',\n",
       "       '1994-03-01T00:00:00.000000000', '1994-04-01T00:00:00.000000000',\n",
       "       '1994-05-01T00:00:00.000000000', '1994-06-01T00:00:00.000000000',\n",
       "       '1994-07-01T00:00:00.000000000', '1994-08-01T00:00:00.000000000',\n",
       "       '1994-09-01T00:00:00.000000000', '1994-10-01T00:00:00.000000000',\n",
       "       '1994-11-01T00:00:00.000000000', '1994-12-01T00:00:00.000000000',\n",
       "       '1995-01-01T00:00:00.000000000', '1995-02-01T00:00:00.000000000',\n",
       "       '1995-03-01T00:00:00.000000000', '1995-04-01T00:00:00.000000000',\n",
       "       '1995-05-01T00:00:00.000000000', '1995-06-01T00:00:00.000000000',\n",
       "       '1995-07-01T00:00:00.000000000', '1995-08-01T00:00:00.000000000',\n",
       "       '1995-09-01T00:00:00.000000000', '1995-10-01T00:00:00.000000000',\n",
       "       '1995-11-01T00:00:00.000000000', '1995-12-01T00:00:00.000000000',\n",
       "       '1996-01-01T00:00:00.000000000', '1996-02-01T00:00:00.000000000',\n",
       "       '1996-03-01T00:00:00.000000000', '1996-04-01T00:00:00.000000000',\n",
       "       '1996-05-01T00:00:00.000000000', '1996-06-01T00:00:00.000000000',\n",
       "       '1996-07-01T00:00:00.000000000', '1996-08-01T00:00:00.000000000',\n",
       "       '1996-09-01T00:00:00.000000000', '1996-10-01T00:00:00.000000000',\n",
       "       '1996-11-01T00:00:00.000000000', '1996-12-01T00:00:00.000000000',\n",
       "       '1997-01-01T00:00:00.000000000', '1997-02-01T00:00:00.000000000',\n",
       "       '1997-03-01T00:00:00.000000000', '1997-04-01T00:00:00.000000000',\n",
       "       '1997-05-01T00:00:00.000000000', '1997-06-01T00:00:00.000000000',\n",
       "       '1997-07-01T00:00:00.000000000', '1997-08-01T00:00:00.000000000',\n",
       "       '1997-09-01T00:00:00.000000000', '1997-10-01T00:00:00.000000000',\n",
       "       '1997-11-01T00:00:00.000000000', '1997-12-01T00:00:00.000000000',\n",
       "       '1998-01-01T00:00:00.000000000', '1998-02-01T00:00:00.000000000',\n",
       "       '1998-03-01T00:00:00.000000000', '1998-04-01T00:00:00.000000000',\n",
       "       '1998-05-01T00:00:00.000000000', '1998-06-01T00:00:00.000000000',\n",
       "       '1998-07-01T00:00:00.000000000', '1998-08-01T00:00:00.000000000',\n",
       "       '1998-09-01T00:00:00.000000000', '1998-10-01T00:00:00.000000000',\n",
       "       '1998-11-01T00:00:00.000000000', '1998-12-01T00:00:00.000000000',\n",
       "       '1999-01-01T00:00:00.000000000', '1999-02-01T00:00:00.000000000',\n",
       "       '1999-03-01T00:00:00.000000000', '1999-04-01T00:00:00.000000000',\n",
       "       '1999-05-01T00:00:00.000000000', '1999-06-01T00:00:00.000000000',\n",
       "       '1999-07-01T00:00:00.000000000', '1999-08-01T00:00:00.000000000',\n",
       "       '1999-09-01T00:00:00.000000000', '1999-10-01T00:00:00.000000000',\n",
       "       '1999-11-01T00:00:00.000000000', '1999-12-01T00:00:00.000000000',\n",
       "       '2000-01-01T00:00:00.000000000', '2000-02-01T00:00:00.000000000',\n",
       "       '2000-03-01T00:00:00.000000000', '2000-04-01T00:00:00.000000000',\n",
       "       '2000-05-01T00:00:00.000000000', '2000-06-01T00:00:00.000000000',\n",
       "       '2000-07-01T00:00:00.000000000', '2000-08-01T00:00:00.000000000',\n",
       "       '2000-09-01T00:00:00.000000000', '2000-10-01T00:00:00.000000000',\n",
       "       '2000-11-01T00:00:00.000000000', '2000-12-01T00:00:00.000000000',\n",
       "       '2001-01-01T00:00:00.000000000', '2001-02-01T00:00:00.000000000',\n",
       "       '2001-03-01T00:00:00.000000000', '2001-04-01T00:00:00.000000000',\n",
       "       '2001-05-01T00:00:00.000000000', '2001-06-01T00:00:00.000000000',\n",
       "       '2001-07-01T00:00:00.000000000', '2001-08-01T00:00:00.000000000',\n",
       "       '2001-09-01T00:00:00.000000000', '2001-10-01T00:00:00.000000000',\n",
       "       '2001-11-01T00:00:00.000000000', '2001-12-01T00:00:00.000000000',\n",
       "       '2002-01-01T00:00:00.000000000', '2002-02-01T00:00:00.000000000',\n",
       "       '2002-03-01T00:00:00.000000000', '2002-04-01T00:00:00.000000000',\n",
       "       '2002-05-01T00:00:00.000000000', '2002-06-01T00:00:00.000000000',\n",
       "       '2002-07-01T00:00:00.000000000', '2002-08-01T00:00:00.000000000',\n",
       "       '2002-09-01T00:00:00.000000000', '2002-10-01T00:00:00.000000000',\n",
       "       '2002-11-01T00:00:00.000000000', '2002-12-01T00:00:00.000000000',\n",
       "       '2003-01-01T00:00:00.000000000', '2003-02-01T00:00:00.000000000',\n",
       "       '2003-03-01T00:00:00.000000000', '2003-04-01T00:00:00.000000000',\n",
       "       '2003-05-01T00:00:00.000000000', '2003-06-01T00:00:00.000000000',\n",
       "       '2003-07-01T00:00:00.000000000', '2003-08-01T00:00:00.000000000',\n",
       "       '2003-09-01T00:00:00.000000000', '2003-10-01T00:00:00.000000000',\n",
       "       '2003-11-01T00:00:00.000000000', '2003-12-01T00:00:00.000000000',\n",
       "       '2004-01-01T00:00:00.000000000', '2004-02-01T00:00:00.000000000',\n",
       "       '2004-03-01T00:00:00.000000000', '2004-04-01T00:00:00.000000000',\n",
       "       '2004-05-01T00:00:00.000000000', '2004-06-01T00:00:00.000000000',\n",
       "       '2004-07-01T00:00:00.000000000', '2004-08-01T00:00:00.000000000',\n",
       "       '2004-09-01T00:00:00.000000000', '2004-10-01T00:00:00.000000000',\n",
       "       '2004-11-01T00:00:00.000000000', '2004-12-01T00:00:00.000000000',\n",
       "       '2005-01-01T00:00:00.000000000', '2005-02-01T00:00:00.000000000',\n",
       "       '2005-03-01T00:00:00.000000000', '2005-04-01T00:00:00.000000000',\n",
       "       '2005-05-01T00:00:00.000000000', '2005-06-01T00:00:00.000000000',\n",
       "       '2005-07-01T00:00:00.000000000', '2005-08-01T00:00:00.000000000',\n",
       "       '2005-09-01T00:00:00.000000000', '2005-10-01T00:00:00.000000000',\n",
       "       '2005-11-01T00:00:00.000000000', '2005-12-01T00:00:00.000000000',\n",
       "       '2006-01-01T00:00:00.000000000', '2006-02-01T00:00:00.000000000',\n",
       "       '2006-03-01T00:00:00.000000000', '2006-04-01T00:00:00.000000000',\n",
       "       '2006-05-01T00:00:00.000000000', '2006-06-01T00:00:00.000000000',\n",
       "       '2006-07-01T00:00:00.000000000', '2006-08-01T00:00:00.000000000',\n",
       "       '2006-09-01T00:00:00.000000000', '2006-10-01T00:00:00.000000000',\n",
       "       '2006-11-01T00:00:00.000000000', '2006-12-01T00:00:00.000000000',\n",
       "       '2007-01-01T00:00:00.000000000', '2007-02-01T00:00:00.000000000',\n",
       "       '2007-03-01T00:00:00.000000000', '2007-04-01T00:00:00.000000000',\n",
       "       '2007-05-01T00:00:00.000000000', '2007-06-01T00:00:00.000000000',\n",
       "       '2007-07-01T00:00:00.000000000', '2007-08-01T00:00:00.000000000',\n",
       "       '2007-09-01T00:00:00.000000000', '2007-10-01T00:00:00.000000000',\n",
       "       '2007-11-01T00:00:00.000000000', '2007-12-01T00:00:00.000000000',\n",
       "       '2008-01-01T00:00:00.000000000', '2008-02-01T00:00:00.000000000',\n",
       "       '2008-03-01T00:00:00.000000000', '2008-04-01T00:00:00.000000000',\n",
       "       '2008-05-01T00:00:00.000000000', '2008-06-01T00:00:00.000000000',\n",
       "       '2008-07-01T00:00:00.000000000', '2008-08-01T00:00:00.000000000',\n",
       "       '2008-09-01T00:00:00.000000000', '2008-10-01T00:00:00.000000000',\n",
       "       '2008-11-01T00:00:00.000000000', '2008-12-01T00:00:00.000000000',\n",
       "       '2009-01-01T00:00:00.000000000', '2009-02-01T00:00:00.000000000',\n",
       "       '2009-03-01T00:00:00.000000000', '2009-04-01T00:00:00.000000000',\n",
       "       '2009-05-01T00:00:00.000000000', '2009-06-01T00:00:00.000000000',\n",
       "       '2009-07-01T00:00:00.000000000', '2009-08-01T00:00:00.000000000',\n",
       "       '2009-09-01T00:00:00.000000000', '2009-10-01T00:00:00.000000000',\n",
       "       '2009-11-01T00:00:00.000000000', '2009-12-01T00:00:00.000000000',\n",
       "       '2010-01-01T00:00:00.000000000', '2010-02-01T00:00:00.000000000',\n",
       "       '2010-03-01T00:00:00.000000000', '2010-04-01T00:00:00.000000000',\n",
       "       '2010-05-01T00:00:00.000000000', '2010-06-01T00:00:00.000000000',\n",
       "       '2010-07-01T00:00:00.000000000', '2010-08-01T00:00:00.000000000',\n",
       "       '2010-09-01T00:00:00.000000000', '2010-10-01T00:00:00.000000000',\n",
       "       '2010-11-01T00:00:00.000000000', '2010-12-01T00:00:00.000000000',\n",
       "       '2011-01-01T00:00:00.000000000', '2011-02-01T00:00:00.000000000',\n",
       "       '2011-03-01T00:00:00.000000000', '2011-04-01T00:00:00.000000000',\n",
       "       '2011-05-01T00:00:00.000000000', '2011-06-01T00:00:00.000000000',\n",
       "       '2011-07-01T00:00:00.000000000', '2011-08-01T00:00:00.000000000',\n",
       "       '2011-09-01T00:00:00.000000000', '2011-10-01T00:00:00.000000000',\n",
       "       '2011-11-01T00:00:00.000000000', '2011-12-01T00:00:00.000000000',\n",
       "       '2012-01-01T00:00:00.000000000', '2012-02-01T00:00:00.000000000',\n",
       "       '2012-03-01T00:00:00.000000000', '2012-04-01T00:00:00.000000000',\n",
       "       '2012-05-01T00:00:00.000000000', '2012-06-01T00:00:00.000000000',\n",
       "       '2012-07-01T00:00:00.000000000', '2012-08-01T00:00:00.000000000',\n",
       "       '2012-09-01T00:00:00.000000000', '2012-10-01T00:00:00.000000000',\n",
       "       '2012-11-01T00:00:00.000000000', '2012-12-01T00:00:00.000000000',\n",
       "       '2013-01-01T00:00:00.000000000', '2013-02-01T00:00:00.000000000',\n",
       "       '2013-03-01T00:00:00.000000000', '2013-04-01T00:00:00.000000000',\n",
       "       '2013-05-01T00:00:00.000000000', '2013-06-01T00:00:00.000000000',\n",
       "       '2013-07-01T00:00:00.000000000', '2013-08-01T00:00:00.000000000',\n",
       "       '2013-09-01T00:00:00.000000000'], dtype='datetime64[ns]')"
      ]
     },
     "execution_count": 36,
     "metadata": {},
     "output_type": "execute_result"
    }
   ],
   "source": [
    "df.index.values"
   ]
  },
  {
   "cell_type": "code",
   "execution_count": 37,
   "id": "4a7608b3",
   "metadata": {},
   "outputs": [],
   "source": [
    "df['Ticks'] = range(0,len(df.index.values))"
   ]
  },
  {
   "cell_type": "code",
   "execution_count": 38,
   "id": "af83a21c",
   "metadata": {},
   "outputs": [
    {
     "data": {
      "text/plain": [
       "[<matplotlib.lines.Line2D at 0x1376285e580>]"
      ]
     },
     "execution_count": 38,
     "metadata": {},
     "output_type": "execute_result"
    },
    {
     "data": {
      "image/png": "[encoded data removed]",
      "text/plain": [
       "<Figure size 432x288 with 1 Axes>"
      ]
     },
     "metadata": {
      "needs_background": "light"
     },
     "output_type": "display_data"
    }
   ],
   "source": [
    "plt.plot('Ticks','AverageTemperature',data=df)"
   ]
  },
  {
   "cell_type": "code",
   "execution_count": 46,
   "id": "d64cfb3b",
   "metadata": {},
   "outputs": [],
   "source": [
    "from statsmodels.tsa.stattools import adfuller\n",
    "def stationarity_check(ts):\n",
    "    \n",
    "    roll_mean = ts.rolling(12).mean()\n",
    "    plt.plot(ts, color='green',label='Original')\n",
    "    plt.plot(roll_mean, color='blue', label='Rolling Mean')\n",
    "    plt.legend(loc='best')\n",
    "    plt.title('Rolling Mean')\n",
    "    plt.show(block=False)\n",
    "    \n",
    "    print('Augmented Dickey-Fuller test:')\n",
    "    df_test = adfuller(ts)\n",
    "    print(\"type of df_test: \",type(df_test))\n",
    "    print(\"df_test: \",df_test)\n",
    "    df_output = pd.Series(df_test[0:4], index=['Test Statistic','p-value','#Lags Used','Number of Observations Used'])\n",
    "    print(\"df_output: \\n\",df_output)\n",
    "    for key,value in df_test[4].items():\n",
    "        df_output['Critical Value (%s)'%key] = value\n",
    "    print(df_output)"
   ]
  },
  {
   "cell_type": "code",
   "execution_count": 47,
   "id": "24e213b1",
   "metadata": {},
   "outputs": [
    {
     "data": {
      "image/png": "[encoded data removed]",
      "text/plain": [
       "<Figure size 432x288 with 1 Axes>"
      ]
     },
     "metadata": {
      "needs_background": "light"
     },
     "output_type": "display_data"
    },
    {
     "name": "stdout",
     "output_type": "stream",
     "text": [
      "Augmented Dickey-Fuller test:\n",
      "type of df_test:  <class 'tuple'>\n",
      "df_test:  (-4.357689420103739, 0.00035241366827825596, 15, 509, {'1%': -3.443262740636999, '5%': -2.8672350350046787, '10%': -2.569803239025633}, 1021.1453733533722)\n",
      "df_output: \n",
      " Test Statistic                  -4.357689\n",
      "p-value                          0.000352\n",
      "#Lags Used                      15.000000\n",
      "Number of Observations Used    509.000000\n",
      "dtype: float64\n",
      "Test Statistic                  -4.357689\n",
      "p-value                          0.000352\n",
      "#Lags Used                      15.000000\n",
      "Number of Observations Used    509.000000\n",
      "Critical Value (1%)             -3.443263\n",
      "Critical Value (5%)             -2.867235\n",
      "Critical Value (10%)            -2.569803\n",
      "dtype: float64\n"
     ]
    }
   ],
   "source": [
    "stationarity_check(df.AverageTemperature)"
   ]
  },
  {
   "cell_type": "code",
   "execution_count": 48,
   "id": "c652cb5a",
   "metadata": {},
   "outputs": [],
   "source": [
    "df['Roll_Mean'] = df.AverageTemperature.rolling(12).mean()"
   ]
  },
  {
   "cell_type": "code",
   "execution_count": 49,
   "id": "26db5b41",
   "metadata": {},
   "outputs": [
    {
     "data": {
      "text/html": [
       "<div>\n",
       "<style scoped>\n",
       "    .dataframe tbody tr th:only-of-type {\n",
       "        vertical-align: middle;\n",
       "    }\n",
       "\n",
       "    .dataframe tbody tr th {\n",
       "        vertical-align: top;\n",
       "    }\n",
       "\n",
       "    .dataframe thead th {\n",
       "        text-align: right;\n",
       "    }\n",
       "</style>\n",
       "<table border=\"1\" class=\"dataframe\">\n",
       "  <thead>\n",
       "    <tr style=\"text-align: right;\">\n",
       "      <th></th>\n",
       "      <th>AverageTemperature</th>\n",
       "      <th>Ticks</th>\n",
       "      <th>Roll_Mean</th>\n",
       "    </tr>\n",
       "    <tr>\n",
       "      <th>dt</th>\n",
       "      <th></th>\n",
       "      <th></th>\n",
       "      <th></th>\n",
       "    </tr>\n",
       "  </thead>\n",
       "  <tbody>\n",
       "    <tr>\n",
       "      <th>1970-01-01</th>\n",
       "      <td>17.400</td>\n",
       "      <td>0</td>\n",
       "      <td>NaN</td>\n",
       "    </tr>\n",
       "    <tr>\n",
       "      <th>1970-02-01</th>\n",
       "      <td>19.679</td>\n",
       "      <td>1</td>\n",
       "      <td>NaN</td>\n",
       "    </tr>\n",
       "    <tr>\n",
       "      <th>1970-03-01</th>\n",
       "      <td>23.807</td>\n",
       "      <td>2</td>\n",
       "      <td>NaN</td>\n",
       "    </tr>\n",
       "    <tr>\n",
       "      <th>1970-04-01</th>\n",
       "      <td>28.212</td>\n",
       "      <td>3</td>\n",
       "      <td>NaN</td>\n",
       "    </tr>\n",
       "    <tr>\n",
       "      <th>1970-05-01</th>\n",
       "      <td>30.420</td>\n",
       "      <td>4</td>\n",
       "      <td>NaN</td>\n",
       "    </tr>\n",
       "    <tr>\n",
       "      <th>...</th>\n",
       "      <td>...</td>\n",
       "      <td>...</td>\n",
       "      <td>...</td>\n",
       "    </tr>\n",
       "    <tr>\n",
       "      <th>2013-05-01</th>\n",
       "      <td>31.014</td>\n",
       "      <td>520</td>\n",
       "      <td>24.739000</td>\n",
       "    </tr>\n",
       "    <tr>\n",
       "      <th>2013-06-01</th>\n",
       "      <td>28.766</td>\n",
       "      <td>521</td>\n",
       "      <td>24.591500</td>\n",
       "    </tr>\n",
       "    <tr>\n",
       "      <th>2013-07-01</th>\n",
       "      <td>27.012</td>\n",
       "      <td>522</td>\n",
       "      <td>24.534250</td>\n",
       "    </tr>\n",
       "    <tr>\n",
       "      <th>2013-08-01</th>\n",
       "      <td>26.555</td>\n",
       "      <td>523</td>\n",
       "      <td>24.519250</td>\n",
       "    </tr>\n",
       "    <tr>\n",
       "      <th>2013-09-01</th>\n",
       "      <td>26.555</td>\n",
       "      <td>524</td>\n",
       "      <td>24.519583</td>\n",
       "    </tr>\n",
       "  </tbody>\n",
       "</table>\n",
       "<p>525 rows × 3 columns</p>\n",
       "</div>"
      ],
      "text/plain": [
       "            AverageTemperature  Ticks  Roll_Mean\n",
       "dt                                              \n",
       "1970-01-01              17.400      0        NaN\n",
       "1970-02-01              19.679      1        NaN\n",
       "1970-03-01              23.807      2        NaN\n",
       "1970-04-01              28.212      3        NaN\n",
       "1970-05-01              30.420      4        NaN\n",
       "...                        ...    ...        ...\n",
       "2013-05-01              31.014    520  24.739000\n",
       "2013-06-01              28.766    521  24.591500\n",
       "2013-07-01              27.012    522  24.534250\n",
       "2013-08-01              26.555    523  24.519250\n",
       "2013-09-01              26.555    524  24.519583\n",
       "\n",
       "[525 rows x 3 columns]"
      ]
     },
     "execution_count": 49,
     "metadata": {},
     "output_type": "execute_result"
    }
   ],
   "source": [
    "df"
   ]
  },
  {
   "cell_type": "code",
   "execution_count": 50,
   "id": "a82ab093",
   "metadata": {},
   "outputs": [],
   "source": [
    "from statsmodels.graphics.tsaplots import plot_pacf,plot_acf"
   ]
  },
  {
   "cell_type": "code",
   "execution_count": 51,
   "id": "f794c22e",
   "metadata": {},
   "outputs": [
    {
     "data": {
      "text/plain": [
       "Text(0.5, 0, 'tags')"
      ]
     },
     "execution_count": 51,
     "metadata": {},
     "output_type": "execute_result"
    },
    {
     "data": {
      "image/png": "[encoded data removed]",
      "text/plain": [
       "<Figure size 432x288 with 1 Axes>"
      ]
     },
     "metadata": {
      "needs_background": "light"
     },
     "output_type": "display_data"
    },
    {
     "data": {
      "image/png": "[encoded data removed]",
      "text/plain": [
       "<Figure size 432x288 with 1 Axes>"
      ]
     },
     "metadata": {
      "needs_background": "light"
     },
     "output_type": "display_data"
    }
   ],
   "source": [
    "plot_pacf(df.AverageTemperature,lags=50)\n",
    "plot_acf(df.AverageTemperature,lags=50)\n",
    "plt.xlabel('tags')"
   ]
  },
  {
   "cell_type": "code",
   "execution_count": 56,
   "id": "a7de0d81",
   "metadata": {},
   "outputs": [],
   "source": [
    "from statsmodels.tsa.arima_model import ARMA"
   ]
  },
  {
   "cell_type": "code",
   "execution_count": 59,
   "id": "9c0497bb",
   "metadata": {},
   "outputs": [
    {
     "name": "stderr",
     "output_type": "stream",
     "text": [
      "C:\\Users\\naman\\anaconda3\\lib\\site-packages\\statsmodels\\tsa\\base\\tsa_model.py:524: ValueWarning: No frequency information was provided, so inferred frequency MS will be used.\n",
      "  warnings.warn('No frequency information was'\n",
      "C:\\Users\\naman\\anaconda3\\lib\\site-packages\\statsmodels\\tsa\\base\\tsa_model.py:524: ValueWarning: No frequency information was provided, so inferred frequency MS will be used.\n",
      "  warnings.warn('No frequency information was'\n",
      "C:\\Users\\naman\\anaconda3\\lib\\site-packages\\statsmodels\\tsa\\base\\tsa_model.py:524: ValueWarning: No frequency information was provided, so inferred frequency MS will be used.\n",
      "  warnings.warn('No frequency information was'\n",
      "C:\\Users\\naman\\anaconda3\\lib\\site-packages\\statsmodels\\tsa\\base\\tsa_model.py:524: ValueWarning: No frequency information was provided, so inferred frequency MS will be used.\n",
      "  warnings.warn('No frequency information was'\n"
     ]
    },
    {
     "name": "stdout",
     "output_type": "stream",
     "text": [
      "ARMA (0, 0) - AIC: 3003.0557009098375\n",
      "ARMA (0, 1) - AIC: 2454.037453291154\n",
      "ARMA (0, 3) - AIC: 1992.7308616753426\n",
      "ARMA (1, 0) - AIC: 2451.5415348869824\n",
      "ARMA (1, 1) - AIC: 2137.8236139655787\n"
     ]
    },
    {
     "name": "stderr",
     "output_type": "stream",
     "text": [
      "C:\\Users\\naman\\anaconda3\\lib\\site-packages\\statsmodels\\tsa\\base\\tsa_model.py:524: ValueWarning: No frequency information was provided, so inferred frequency MS will be used.\n",
      "  warnings.warn('No frequency information was'\n",
      "C:\\Users\\naman\\anaconda3\\lib\\site-packages\\statsmodels\\tsa\\base\\tsa_model.py:524: ValueWarning: No frequency information was provided, so inferred frequency MS will be used.\n",
      "  warnings.warn('No frequency information was'\n",
      "C:\\Users\\naman\\anaconda3\\lib\\site-packages\\statsmodels\\tsa\\arima_model.py:472: FutureWarning: \n",
      "statsmodels.tsa.arima_model.ARMA and statsmodels.tsa.arima_model.ARIMA have\n",
      "been deprecated in favor of statsmodels.tsa.arima.model.ARIMA (note the .\n",
      "between arima and model) and\n",
      "statsmodels.tsa.SARIMAX. These will be removed after the 0.12 release.\n",
      "\n",
      "statsmodels.tsa.arima.model.ARIMA makes use of the statespace framework and\n",
      "is both well tested and maintained.\n",
      "\n",
      "To silence this warning and continue using ARMA and ARIMA until they are\n",
      "removed, use:\n",
      "\n",
      "import warnings\n",
      "warnings.filterwarnings('ignore', 'statsmodels.tsa.arima_model.ARMA',\n",
      "                        FutureWarning)\n",
      "warnings.filterwarnings('ignore', 'statsmodels.tsa.arima_model.ARIMA',\n",
      "                        FutureWarning)\n",
      "\n",
      "  warnings.warn(ARIMA_DEPRECATION_WARN, FutureWarning)\n",
      "C:\\Users\\naman\\anaconda3\\lib\\site-packages\\statsmodels\\tsa\\base\\tsa_model.py:524: ValueWarning: No frequency information was provided, so inferred frequency MS will be used.\n",
      "  warnings.warn('No frequency information was'\n"
     ]
    },
    {
     "name": "stdout",
     "output_type": "stream",
     "text": [
      "ARMA (1, 2) - AIC: 2443.3689109565603\n"
     ]
    },
    {
     "name": "stderr",
     "output_type": "stream",
     "text": [
      "C:\\Users\\naman\\anaconda3\\lib\\site-packages\\statsmodels\\tsa\\arima_model.py:472: FutureWarning: \n",
      "statsmodels.tsa.arima_model.ARMA and statsmodels.tsa.arima_model.ARIMA have\n",
      "been deprecated in favor of statsmodels.tsa.arima.model.ARIMA (note the .\n",
      "between arima and model) and\n",
      "statsmodels.tsa.SARIMAX. These will be removed after the 0.12 release.\n",
      "\n",
      "statsmodels.tsa.arima.model.ARIMA makes use of the statespace framework and\n",
      "is both well tested and maintained.\n",
      "\n",
      "To silence this warning and continue using ARMA and ARIMA until they are\n",
      "removed, use:\n",
      "\n",
      "import warnings\n",
      "warnings.filterwarnings('ignore', 'statsmodels.tsa.arima_model.ARMA',\n",
      "                        FutureWarning)\n",
      "warnings.filterwarnings('ignore', 'statsmodels.tsa.arima_model.ARIMA',\n",
      "                        FutureWarning)\n",
      "\n",
      "  warnings.warn(ARIMA_DEPRECATION_WARN, FutureWarning)\n",
      "C:\\Users\\naman\\anaconda3\\lib\\site-packages\\statsmodels\\tsa\\base\\tsa_model.py:524: ValueWarning: No frequency information was provided, so inferred frequency MS will be used.\n",
      "  warnings.warn('No frequency information was'\n"
     ]
    },
    {
     "name": "stdout",
     "output_type": "stream",
     "text": [
      "ARMA (1, 3) - AIC: 2135.2949107373843\n",
      "ARMA (2, 0) - AIC: 1868.413520271494\n"
     ]
    },
    {
     "name": "stderr",
     "output_type": "stream",
     "text": [
      "C:\\Users\\naman\\anaconda3\\lib\\site-packages\\statsmodels\\tsa\\arima_model.py:472: FutureWarning: \n",
      "statsmodels.tsa.arima_model.ARMA and statsmodels.tsa.arima_model.ARIMA have\n",
      "been deprecated in favor of statsmodels.tsa.arima.model.ARIMA (note the .\n",
      "between arima and model) and\n",
      "statsmodels.tsa.SARIMAX. These will be removed after the 0.12 release.\n",
      "\n",
      "statsmodels.tsa.arima.model.ARIMA makes use of the statespace framework and\n",
      "is both well tested and maintained.\n",
      "\n",
      "To silence this warning and continue using ARMA and ARIMA until they are\n",
      "removed, use:\n",
      "\n",
      "import warnings\n",
      "warnings.filterwarnings('ignore', 'statsmodels.tsa.arima_model.ARMA',\n",
      "                        FutureWarning)\n",
      "warnings.filterwarnings('ignore', 'statsmodels.tsa.arima_model.ARIMA',\n",
      "                        FutureWarning)\n",
      "\n",
      "  warnings.warn(ARIMA_DEPRECATION_WARN, FutureWarning)\n",
      "C:\\Users\\naman\\anaconda3\\lib\\site-packages\\statsmodels\\tsa\\base\\tsa_model.py:524: ValueWarning: No frequency information was provided, so inferred frequency MS will be used.\n",
      "  warnings.warn('No frequency information was'\n",
      "C:\\Users\\naman\\anaconda3\\lib\\site-packages\\statsmodels\\tsa\\base\\tsa_model.py:524: ValueWarning: No frequency information was provided, so inferred frequency MS will be used.\n",
      "  warnings.warn('No frequency information was'\n",
      "C:\\Users\\naman\\anaconda3\\lib\\site-packages\\statsmodels\\tsa\\arima_model.py:472: FutureWarning: \n",
      "statsmodels.tsa.arima_model.ARMA and statsmodels.tsa.arima_model.ARIMA have\n",
      "been deprecated in favor of statsmodels.tsa.arima.model.ARIMA (note the .\n",
      "between arima and model) and\n",
      "statsmodels.tsa.SARIMAX. These will be removed after the 0.12 release.\n",
      "\n",
      "statsmodels.tsa.arima.model.ARIMA makes use of the statespace framework and\n",
      "is both well tested and maintained.\n",
      "\n",
      "To silence this warning and continue using ARMA and ARIMA until they are\n",
      "removed, use:\n",
      "\n",
      "import warnings\n",
      "warnings.filterwarnings('ignore', 'statsmodels.tsa.arima_model.ARMA',\n",
      "                        FutureWarning)\n",
      "warnings.filterwarnings('ignore', 'statsmodels.tsa.arima_model.ARIMA',\n",
      "                        FutureWarning)\n",
      "\n",
      "  warnings.warn(ARIMA_DEPRECATION_WARN, FutureWarning)\n",
      "C:\\Users\\naman\\anaconda3\\lib\\site-packages\\statsmodels\\tsa\\base\\tsa_model.py:524: ValueWarning: No frequency information was provided, so inferred frequency MS will be used.\n",
      "  warnings.warn('No frequency information was'\n"
     ]
    },
    {
     "name": "stdout",
     "output_type": "stream",
     "text": [
      "ARMA (2, 2) - AIC: 1773.8587156705316\n"
     ]
    },
    {
     "name": "stderr",
     "output_type": "stream",
     "text": [
      "C:\\Users\\naman\\anaconda3\\lib\\site-packages\\statsmodels\\tsa\\arima_model.py:472: FutureWarning: \n",
      "statsmodels.tsa.arima_model.ARMA and statsmodels.tsa.arima_model.ARIMA have\n",
      "been deprecated in favor of statsmodels.tsa.arima.model.ARIMA (note the .\n",
      "between arima and model) and\n",
      "statsmodels.tsa.SARIMAX. These will be removed after the 0.12 release.\n",
      "\n",
      "statsmodels.tsa.arima.model.ARIMA makes use of the statespace framework and\n",
      "is both well tested and maintained.\n",
      "\n",
      "To silence this warning and continue using ARMA and ARIMA until they are\n",
      "removed, use:\n",
      "\n",
      "import warnings\n",
      "warnings.filterwarnings('ignore', 'statsmodels.tsa.arima_model.ARMA',\n",
      "                        FutureWarning)\n",
      "warnings.filterwarnings('ignore', 'statsmodels.tsa.arima_model.ARIMA',\n",
      "                        FutureWarning)\n",
      "\n",
      "  warnings.warn(ARIMA_DEPRECATION_WARN, FutureWarning)\n",
      "C:\\Users\\naman\\anaconda3\\lib\\site-packages\\statsmodels\\tsa\\base\\tsa_model.py:524: ValueWarning: No frequency information was provided, so inferred frequency MS will be used.\n",
      "  warnings.warn('No frequency information was'\n"
     ]
    },
    {
     "name": "stdout",
     "output_type": "stream",
     "text": [
      "ARMA (2, 3) - AIC: 1694.2914356966926\n",
      "ARMA (3, 0) - AIC: 1869.533490378148\n"
     ]
    },
    {
     "name": "stderr",
     "output_type": "stream",
     "text": [
      "C:\\Users\\naman\\anaconda3\\lib\\site-packages\\statsmodels\\tsa\\arima_model.py:472: FutureWarning: \n",
      "statsmodels.tsa.arima_model.ARMA and statsmodels.tsa.arima_model.ARIMA have\n",
      "been deprecated in favor of statsmodels.tsa.arima.model.ARIMA (note the .\n",
      "between arima and model) and\n",
      "statsmodels.tsa.SARIMAX. These will be removed after the 0.12 release.\n",
      "\n",
      "statsmodels.tsa.arima.model.ARIMA makes use of the statespace framework and\n",
      "is both well tested and maintained.\n",
      "\n",
      "To silence this warning and continue using ARMA and ARIMA until they are\n",
      "removed, use:\n",
      "\n",
      "import warnings\n",
      "warnings.filterwarnings('ignore', 'statsmodels.tsa.arima_model.ARMA',\n",
      "                        FutureWarning)\n",
      "warnings.filterwarnings('ignore', 'statsmodels.tsa.arima_model.ARIMA',\n",
      "                        FutureWarning)\n",
      "\n",
      "  warnings.warn(ARIMA_DEPRECATION_WARN, FutureWarning)\n",
      "C:\\Users\\naman\\anaconda3\\lib\\site-packages\\statsmodels\\tsa\\base\\tsa_model.py:524: ValueWarning: No frequency information was provided, so inferred frequency MS will be used.\n",
      "  warnings.warn('No frequency information was'\n",
      "C:\\Users\\naman\\anaconda3\\lib\\site-packages\\statsmodels\\tsa\\base\\tsa_model.py:524: ValueWarning: No frequency information was provided, so inferred frequency MS will be used.\n",
      "  warnings.warn('No frequency information was'\n",
      "C:\\Users\\naman\\anaconda3\\lib\\site-packages\\statsmodels\\tsa\\arima_model.py:472: FutureWarning: \n",
      "statsmodels.tsa.arima_model.ARMA and statsmodels.tsa.arima_model.ARIMA have\n",
      "been deprecated in favor of statsmodels.tsa.arima.model.ARIMA (note the .\n",
      "between arima and model) and\n",
      "statsmodels.tsa.SARIMAX. These will be removed after the 0.12 release.\n",
      "\n",
      "statsmodels.tsa.arima.model.ARIMA makes use of the statespace framework and\n",
      "is both well tested and maintained.\n",
      "\n",
      "To silence this warning and continue using ARMA and ARIMA until they are\n",
      "removed, use:\n",
      "\n",
      "import warnings\n",
      "warnings.filterwarnings('ignore', 'statsmodels.tsa.arima_model.ARMA',\n",
      "                        FutureWarning)\n",
      "warnings.filterwarnings('ignore', 'statsmodels.tsa.arima_model.ARIMA',\n",
      "                        FutureWarning)\n",
      "\n",
      "  warnings.warn(ARIMA_DEPRECATION_WARN, FutureWarning)\n",
      "C:\\Users\\naman\\anaconda3\\lib\\site-packages\\statsmodels\\tsa\\base\\tsa_model.py:524: ValueWarning: No frequency information was provided, so inferred frequency MS will be used.\n",
      "  warnings.warn('No frequency information was'\n"
     ]
    },
    {
     "name": "stdout",
     "output_type": "stream",
     "text": [
      "ARMA (3, 2) - AIC: 1810.8690958804375\n"
     ]
    },
    {
     "name": "stderr",
     "output_type": "stream",
     "text": [
      "C:\\Users\\naman\\anaconda3\\lib\\site-packages\\statsmodels\\tsa\\arima_model.py:472: FutureWarning: \n",
      "statsmodels.tsa.arima_model.ARMA and statsmodels.tsa.arima_model.ARIMA have\n",
      "been deprecated in favor of statsmodels.tsa.arima.model.ARIMA (note the .\n",
      "between arima and model) and\n",
      "statsmodels.tsa.SARIMAX. These will be removed after the 0.12 release.\n",
      "\n",
      "statsmodels.tsa.arima.model.ARIMA makes use of the statespace framework and\n",
      "is both well tested and maintained.\n",
      "\n",
      "To silence this warning and continue using ARMA and ARIMA until they are\n",
      "removed, use:\n",
      "\n",
      "import warnings\n",
      "warnings.filterwarnings('ignore', 'statsmodels.tsa.arima_model.ARMA',\n",
      "                        FutureWarning)\n",
      "warnings.filterwarnings('ignore', 'statsmodels.tsa.arima_model.ARIMA',\n",
      "                        FutureWarning)\n",
      "\n",
      "  warnings.warn(ARIMA_DEPRECATION_WARN, FutureWarning)\n",
      "C:\\Users\\naman\\anaconda3\\lib\\site-packages\\statsmodels\\tsa\\base\\tsa_model.py:524: ValueWarning: No frequency information was provided, so inferred frequency MS will be used.\n",
      "  warnings.warn('No frequency information was'\n"
     ]
    },
    {
     "name": "stdout",
     "output_type": "stream",
     "text": [
      "ARMA (3, 3) - AIC: 1761.365307551008\n"
     ]
    }
   ],
   "source": [
    "import itertools\n",
    "p=q=range(0,4)\n",
    "pq=itertools.product(p,q)\n",
    "for param in pq:\n",
    "    try:\n",
    "        mod=ARMA(df.AverageTemperature,order=param)\n",
    "        result=mod.fit()\n",
    "        print(f\"ARMA {param} - AIC: {result.aic}\")\n",
    "    except:\n",
    "        continue"
   ]
  },
  {
   "cell_type": "code",
   "execution_count": 60,
   "id": "5e3d93d6",
   "metadata": {},
   "outputs": [
    {
     "name": "stderr",
     "output_type": "stream",
     "text": [
      "C:\\Users\\naman\\anaconda3\\lib\\site-packages\\statsmodels\\tsa\\arima_model.py:472: FutureWarning: \n",
      "statsmodels.tsa.arima_model.ARMA and statsmodels.tsa.arima_model.ARIMA have\n",
      "been deprecated in favor of statsmodels.tsa.arima.model.ARIMA (note the .\n",
      "between arima and model) and\n",
      "statsmodels.tsa.SARIMAX. These will be removed after the 0.12 release.\n",
      "\n",
      "statsmodels.tsa.arima.model.ARIMA makes use of the statespace framework and\n",
      "is both well tested and maintained.\n",
      "\n",
      "To silence this warning and continue using ARMA and ARIMA until they are\n",
      "removed, use:\n",
      "\n",
      "import warnings\n",
      "warnings.filterwarnings('ignore', 'statsmodels.tsa.arima_model.ARMA',\n",
      "                        FutureWarning)\n",
      "warnings.filterwarnings('ignore', 'statsmodels.tsa.arima_model.ARIMA',\n",
      "                        FutureWarning)\n",
      "\n",
      "  warnings.warn(ARIMA_DEPRECATION_WARN, FutureWarning)\n",
      "C:\\Users\\naman\\anaconda3\\lib\\site-packages\\statsmodels\\tsa\\base\\tsa_model.py:524: ValueWarning: No frequency information was provided, so inferred frequency MS will be used.\n",
      "  warnings.warn('No frequency information was'\n"
     ]
    },
    {
     "data": {
      "text/plain": [
       "Text(0.5, 1.0, 'Fitting data _ MSE: 1.51')"
      ]
     },
     "execution_count": 60,
     "metadata": {},
     "output_type": "execute_result"
    },
    {
     "data": {
      "image/png": "[encoded data removed]",
      "text/plain": [
       "<Figure size 432x288 with 1 Axes>"
      ]
     },
     "metadata": {
      "needs_background": "light"
     },
     "output_type": "display_data"
    }
   ],
   "source": [
    "model = ARMA(df.AverageTemperature, order=(2,3))  \n",
    "results_MA = model.fit()  \n",
    "plt.plot(df.AverageTemperature)\n",
    "plt.plot(results_MA.fittedvalues, color='red')\n",
    "plt.title('Fitting data _ MSE: %.2f'% (((results_MA.fittedvalues-df.AverageTemperature)**2).mean()))"
   ]
  },
  {
   "cell_type": "code",
   "execution_count": 61,
   "id": "26d00ec6",
   "metadata": {},
   "outputs": [],
   "source": [
    "predictions = results_MA.predict('01/01/1970', '12/01/2023')"
   ]
  },
  {
   "cell_type": "code",
   "execution_count": 62,
   "id": "c50b8e4c",
   "metadata": {},
   "outputs": [
    {
     "data": {
      "text/plain": [
       "1970-01-01    24.412261\n",
       "1970-02-01    18.754506\n",
       "1970-03-01    22.808054\n",
       "1970-04-01    27.068475\n",
       "1970-05-01    30.648987\n",
       "                ...    \n",
       "2023-08-01    27.246532\n",
       "2023-09-01    25.564533\n",
       "2023-10-01    23.582456\n",
       "2023-11-01    21.831681\n",
       "2023-12-01    20.779214\n",
       "Freq: MS, Length: 648, dtype: float64"
      ]
     },
     "execution_count": 62,
     "metadata": {},
     "output_type": "execute_result"
    }
   ],
   "source": [
    "predictions"
   ]
  },
  {
   "cell_type": "code",
   "execution_count": null,
   "id": "80cdbc1d",
   "metadata": {},
   "outputs": [],
   "source": []
  }
 ],
 "metadata": {
  "kernelspec": {
   "display_name": "Python 3",
   "language": "python",
   "name": "python3"
  },
  "language_info": {
   "codemirror_mode": {
    "name": "ipython",
    "version": 3
   },
   "file_extension": ".py",
   "mimetype": "text/x-python",
   "name": "python",
   "nbconvert_exporter": "python",
   "pygments_lexer": "ipython3",
   "version": "3.8.8"
  }
 },
 "nbformat": 4,
 "nbformat_minor": 5
}
